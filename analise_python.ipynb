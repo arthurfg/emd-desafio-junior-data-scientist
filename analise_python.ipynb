{
 "cells": [
  {
   "cell_type": "markdown",
   "metadata": {},
   "source": [
    "# Desafio Técnico - Cientista de Dados Júnior\n",
    "### Arthur Gusmão"
   ]
  },
  {
   "cell_type": "markdown",
   "metadata": {},
   "source": [
    "## Localização de chamados do 1746"
   ]
  },
  {
   "cell_type": "code",
   "execution_count": 80,
   "metadata": {},
   "outputs": [],
   "source": [
    "## imports\n",
    "import pandas as pd\n",
    "import basedosdados as bd\n",
    "import numpy as np"
   ]
  },
  {
   "cell_type": "code",
   "execution_count": 18,
   "metadata": {},
   "outputs": [],
   "source": [
    "## queries\n",
    "\n",
    "query = \"\"\"\n",
    "SELECT *\n",
    "FROM `datario.administracao_servicos_publicos.chamado_1746`\n",
    "WHERE DATE(data_inicio) = '2023-04-01';\n",
    "\"\"\"\n",
    "\n",
    "query_bairros = \"\"\"\n",
    "SELECT *\n",
    "FROM `datario.dados_mestres.bairro`\n",
    "\"\"\"\n",
    "\n",
    "query_5071 = \"\"\"\n",
    "SELECT *\n",
    "FROM `datario.administracao_servicos_publicos.chamado_1746` \n",
    "WHERE DATE(data_inicio) BETWEEN '2022-01-01' AND '2023-12-31' AND id_subtipo = '5071';\n",
    "\"\"\"\n",
    "\n",
    "query_eventos = \"\"\"\n",
    "SELECT *\n",
    "FROM `datario.turismo_fluxo_visitantes.rede_hoteleira_ocupacao_eventos`\n",
    "\"\"\""
   ]
  },
  {
   "cell_type": "code",
   "execution_count": 114,
   "metadata": {},
   "outputs": [
    {
     "name": "stdout",
     "output_type": "stream",
     "text": [
      "Downloading: 100%|\u001b[32m██████████\u001b[0m|\n",
      "Downloading: 100%|\u001b[32m██████████\u001b[0m|\n"
     ]
    }
   ],
   "source": [
    "df = bd.read_sql(query, billing_project_id=\"arthur-data-engineering-course\",)\n",
    "df_bairros = bd.read_sql(query_bairros, billing_project_id=\"arthur-data-engineering-course\",)\n"
   ]
  },
  {
   "cell_type": "markdown",
   "metadata": {},
   "source": [
    "### Questão 1:\n",
    "#### Quantos chamados foram abertos no dia 01/04/2023?"
   ]
  },
  {
   "cell_type": "code",
   "execution_count": 8,
   "metadata": {},
   "outputs": [
    {
     "data": {
      "text/plain": [
       "73"
      ]
     },
     "execution_count": 8,
     "metadata": {},
     "output_type": "execute_result"
    }
   ],
   "source": [
    "df['id_chamado'].nunique()\n"
   ]
  },
  {
   "cell_type": "markdown",
   "metadata": {},
   "source": [
    "### Questão 2:\n",
    "#### Qual o tipo de chamado que teve mais teve chamados abertos no dia 01/04/2023?"
   ]
  },
  {
   "cell_type": "code",
   "execution_count": 10,
   "metadata": {},
   "outputs": [
    {
     "data": {
      "text/html": [
       "<div>\n",
       "<style scoped>\n",
       "    .dataframe tbody tr th:only-of-type {\n",
       "        vertical-align: middle;\n",
       "    }\n",
       "\n",
       "    .dataframe tbody tr th {\n",
       "        vertical-align: top;\n",
       "    }\n",
       "\n",
       "    .dataframe thead th {\n",
       "        text-align: right;\n",
       "    }\n",
       "</style>\n",
       "<table border=\"1\" class=\"dataframe\">\n",
       "  <thead>\n",
       "    <tr style=\"text-align: right;\">\n",
       "      <th></th>\n",
       "      <th>id_tipo</th>\n",
       "      <th>tipo</th>\n",
       "      <th>total_chamados</th>\n",
       "    </tr>\n",
       "  </thead>\n",
       "  <tbody>\n",
       "    <tr>\n",
       "      <th>2</th>\n",
       "      <td>1393</td>\n",
       "      <td>Poluição sonora</td>\n",
       "      <td>24</td>\n",
       "    </tr>\n",
       "  </tbody>\n",
       "</table>\n",
       "</div>"
      ],
      "text/plain": [
       "  id_tipo             tipo  total_chamados\n",
       "2    1393  Poluição sonora              24"
      ]
     },
     "execution_count": 10,
     "metadata": {},
     "output_type": "execute_result"
    }
   ],
   "source": [
    "df \\\n",
    "    .groupby(['id_tipo', 'tipo'])['id_chamado'].nunique() \\\n",
    "    .reset_index(name='total_chamados') \\\n",
    "    .sort_values(by='total_chamados', ascending=False) \\\n",
    "    .head(1)"
   ]
  },
  {
   "cell_type": "markdown",
   "metadata": {},
   "source": [
    "### Questão 3:\n",
    "#### Quais os nomes dos 3 bairros que mais tiveram chamados abertos nesse dia?"
   ]
  },
  {
   "cell_type": "code",
   "execution_count": 14,
   "metadata": {},
   "outputs": [
    {
     "data": {
      "text/html": [
       "<div>\n",
       "<style scoped>\n",
       "    .dataframe tbody tr th:only-of-type {\n",
       "        vertical-align: middle;\n",
       "    }\n",
       "\n",
       "    .dataframe tbody tr th {\n",
       "        vertical-align: top;\n",
       "    }\n",
       "\n",
       "    .dataframe thead th {\n",
       "        text-align: right;\n",
       "    }\n",
       "</style>\n",
       "<table border=\"1\" class=\"dataframe\">\n",
       "  <thead>\n",
       "    <tr style=\"text-align: right;\">\n",
       "      <th></th>\n",
       "      <th>nome</th>\n",
       "      <th>total_chamados</th>\n",
       "    </tr>\n",
       "  </thead>\n",
       "  <tbody>\n",
       "    <tr>\n",
       "      <th>10</th>\n",
       "      <td>Engenho de Dentro</td>\n",
       "      <td>8</td>\n",
       "    </tr>\n",
       "    <tr>\n",
       "      <th>3</th>\n",
       "      <td>Campo Grande</td>\n",
       "      <td>6</td>\n",
       "    </tr>\n",
       "    <tr>\n",
       "      <th>20</th>\n",
       "      <td>Leblon</td>\n",
       "      <td>6</td>\n",
       "    </tr>\n",
       "  </tbody>\n",
       "</table>\n",
       "</div>"
      ],
      "text/plain": [
       "                 nome  total_chamados\n",
       "10  Engenho de Dentro               8\n",
       "3        Campo Grande               6\n",
       "20             Leblon               6"
      ]
     },
     "execution_count": 14,
     "metadata": {},
     "output_type": "execute_result"
    }
   ],
   "source": [
    "pd.merge(df,\n",
    "        df_bairros,\n",
    "        left_on='id_bairro',\n",
    "        right_on='id_bairro',\n",
    "        how='left') \\\n",
    "    .groupby('nome')['id_chamado'].nunique() \\\n",
    "    .reset_index(name='total_chamados') \\\n",
    "    .sort_values(by='total_chamados', ascending=False) \\\n",
    "    .head(3)"
   ]
  },
  {
   "cell_type": "markdown",
   "metadata": {},
   "source": [
    "### Questão 4\n",
    "#### Qual o nome da subprefeitura com mais chamados abertos nesse dia?"
   ]
  },
  {
   "cell_type": "code",
   "execution_count": 15,
   "metadata": {},
   "outputs": [
    {
     "data": {
      "text/html": [
       "<div>\n",
       "<style scoped>\n",
       "    .dataframe tbody tr th:only-of-type {\n",
       "        vertical-align: middle;\n",
       "    }\n",
       "\n",
       "    .dataframe tbody tr th {\n",
       "        vertical-align: top;\n",
       "    }\n",
       "\n",
       "    .dataframe thead th {\n",
       "        text-align: right;\n",
       "    }\n",
       "</style>\n",
       "<table border=\"1\" class=\"dataframe\">\n",
       "  <thead>\n",
       "    <tr style=\"text-align: right;\">\n",
       "      <th></th>\n",
       "      <th>subprefeitura</th>\n",
       "      <th>total_chamados</th>\n",
       "    </tr>\n",
       "  </thead>\n",
       "  <tbody>\n",
       "    <tr>\n",
       "      <th>5</th>\n",
       "      <td>Zona Norte</td>\n",
       "      <td>25</td>\n",
       "    </tr>\n",
       "  </tbody>\n",
       "</table>\n",
       "</div>"
      ],
      "text/plain": [
       "  subprefeitura  total_chamados\n",
       "5    Zona Norte              25"
      ]
     },
     "execution_count": 15,
     "metadata": {},
     "output_type": "execute_result"
    }
   ],
   "source": [
    "pd.merge(df,\n",
    "        df_bairros,\n",
    "        left_on='id_bairro',\n",
    "        right_on='id_bairro',\n",
    "        how='left') \\\n",
    "    .groupby('subprefeitura')['id_chamado'].nunique() \\\n",
    "    .reset_index(name='total_chamados') \\\n",
    "    .sort_values(by='total_chamados', ascending=False) \\\n",
    "    .head(1)"
   ]
  },
  {
   "cell_type": "markdown",
   "metadata": {},
   "source": [
    "### Questão 5:\n",
    "#### Existe algum chamado aberto nesse dia que não foi associado a um bairro ou subprefeitura na tabela de bairros? Se sim, por que isso acontece?"
   ]
  },
  {
   "cell_type": "code",
   "execution_count": 16,
   "metadata": {},
   "outputs": [
    {
     "data": {
      "text/html": [
       "<div>\n",
       "<style scoped>\n",
       "    .dataframe tbody tr th:only-of-type {\n",
       "        vertical-align: middle;\n",
       "    }\n",
       "\n",
       "    .dataframe tbody tr th {\n",
       "        vertical-align: top;\n",
       "    }\n",
       "\n",
       "    .dataframe thead th {\n",
       "        text-align: right;\n",
       "    }\n",
       "</style>\n",
       "<table border=\"1\" class=\"dataframe\">\n",
       "  <thead>\n",
       "    <tr style=\"text-align: right;\">\n",
       "      <th></th>\n",
       "      <th>id_chamado</th>\n",
       "      <th>tipo</th>\n",
       "      <th>subtipo</th>\n",
       "    </tr>\n",
       "  </thead>\n",
       "  <tbody>\n",
       "    <tr>\n",
       "      <th>0</th>\n",
       "      <td>18516246</td>\n",
       "      <td>Ônibus</td>\n",
       "      <td>Verificação de ar condicionado inoperante no ô...</td>\n",
       "    </tr>\n",
       "  </tbody>\n",
       "</table>\n",
       "</div>"
      ],
      "text/plain": [
       "  id_chamado    tipo                                            subtipo\n",
       "0   18516246  Ônibus  Verificação de ar condicionado inoperante no ô..."
      ]
     },
     "execution_count": 16,
     "metadata": {},
     "output_type": "execute_result"
    }
   ],
   "source": [
    "pd.merge(df,\n",
    "        df_bairros,\n",
    "        left_on='id_bairro',\n",
    "        right_on='id_bairro',\n",
    "        how='left') \\\n",
    "    .loc[(df['id_bairro'].isnull()) | (df_bairros['subprefeitura'].isnull()), ['id_chamado', 'tipo', 'subtipo']]\n",
    "\n",
    "# Sim, o identificado por 18516246. Por ser um chamado de ônibus, para a verificação do funcionamento do ar condicionado, é dificil precisar a localização do ocorrido."
   ]
  },
  {
   "cell_type": "markdown",
   "metadata": {},
   "source": [
    "## Chamados do 1746 em grandes eventos"
   ]
  },
  {
   "cell_type": "markdown",
   "metadata": {},
   "source": [
    "### Questão 6:\n",
    "#### Quantos chamados com o subtipo \"Perturbação do sossego\" foram abertos desde 01/01/2022 até 31/12/2023 (incluindo extremidades)?"
   ]
  },
  {
   "cell_type": "code",
   "execution_count": 67,
   "metadata": {},
   "outputs": [
    {
     "name": "stdout",
     "output_type": "stream",
     "text": [
      "Downloading: 100%|\u001b[32m██████████\u001b[0m|\n"
     ]
    }
   ],
   "source": [
    "df_5071 = bd.read_sql(query_5071, billing_project_id=\"arthur-data-engineering-course\",)"
   ]
  },
  {
   "cell_type": "code",
   "execution_count": 20,
   "metadata": {},
   "outputs": [
    {
     "data": {
      "text/plain": [
       "42408"
      ]
     },
     "execution_count": 20,
     "metadata": {},
     "output_type": "execute_result"
    }
   ],
   "source": [
    "df_5071['id_chamado'].nunique()"
   ]
  },
  {
   "cell_type": "markdown",
   "metadata": {},
   "source": [
    "### Questão 7:\n",
    "#### Selecione os chamados com esse subtipo que foram abertos durante os eventos contidos na tabela de eventos (Reveillon, Carnaval e Rock in Rio)."
   ]
  },
  {
   "cell_type": "code",
   "execution_count": 65,
   "metadata": {},
   "outputs": [
    {
     "name": "stdout",
     "output_type": "stream",
     "text": [
      "Downloading: 100%|\u001b[32m██████████\u001b[0m|\n"
     ]
    }
   ],
   "source": [
    "df_eventos = bd.read_sql(query_eventos, billing_project_id=\"arthur-data-engineering-course\",)"
   ]
  },
  {
   "cell_type": "code",
   "execution_count": 81,
   "metadata": {},
   "outputs": [],
   "source": [
    "df_5071['evento'] = np.nan\n",
    "\n",
    "for index, row in df_5071.iterrows():\n",
    "    data_inicio = row['data_inicio'].date()\n",
    "    for _, evento_row in df_eventos.iterrows():\n",
    "        if evento_row[\"data_inicial\"] <= data_inicio <= evento_row[\"data_final\"]:\n",
    "            df_5071.at[index, 'evento'] = evento_row[\"evento\"]\n",
    "            break\n"
   ]
  },
  {
   "cell_type": "code",
   "execution_count": 86,
   "metadata": {},
   "outputs": [
    {
     "data": {
      "text/html": [
       "<div>\n",
       "<style scoped>\n",
       "    .dataframe tbody tr th:only-of-type {\n",
       "        vertical-align: middle;\n",
       "    }\n",
       "\n",
       "    .dataframe tbody tr th {\n",
       "        vertical-align: top;\n",
       "    }\n",
       "\n",
       "    .dataframe thead th {\n",
       "        text-align: right;\n",
       "    }\n",
       "</style>\n",
       "<table border=\"1\" class=\"dataframe\">\n",
       "  <thead>\n",
       "    <tr style=\"text-align: right;\">\n",
       "      <th></th>\n",
       "      <th>id_chamado</th>\n",
       "      <th>data_inicio</th>\n",
       "      <th>data_fim</th>\n",
       "      <th>id_bairro</th>\n",
       "      <th>id_territorialidade</th>\n",
       "      <th>id_logradouro</th>\n",
       "      <th>numero_logradouro</th>\n",
       "      <th>id_unidade_organizacional</th>\n",
       "      <th>nome_unidade_organizacional</th>\n",
       "      <th>id_unidade_organizacional_mae</th>\n",
       "      <th>...</th>\n",
       "      <th>prazo_unidade</th>\n",
       "      <th>prazo_tipo</th>\n",
       "      <th>dentro_prazo</th>\n",
       "      <th>situacao</th>\n",
       "      <th>tipo_situacao</th>\n",
       "      <th>justificativa_status</th>\n",
       "      <th>reclamacoes</th>\n",
       "      <th>data_particao</th>\n",
       "      <th>geometry</th>\n",
       "      <th>evento</th>\n",
       "    </tr>\n",
       "  </thead>\n",
       "  <tbody>\n",
       "    <tr>\n",
       "      <th>7217</th>\n",
       "      <td>18078140</td>\n",
       "      <td>2022-12-30 20:18:43</td>\n",
       "      <td>2022-12-30 22:03:07</td>\n",
       "      <td>23</td>\n",
       "      <td>2</td>\n",
       "      <td>65615</td>\n",
       "      <td>93</td>\n",
       "      <td>70</td>\n",
       "      <td>GM-RIO - Guarda Municipal do Rio de Janeiro</td>\n",
       "      <td>GM-RIO - Guarda Municipal do Rio de Janeiro</td>\n",
       "      <td>...</td>\n",
       "      <td>D</td>\n",
       "      <td>F</td>\n",
       "      <td>No prazo</td>\n",
       "      <td>Encerrado</td>\n",
       "      <td>Atendido</td>\n",
       "      <td>None</td>\n",
       "      <td>0</td>\n",
       "      <td>2022-12-01</td>\n",
       "      <td>POINT(-43.1691884 -22.962173)</td>\n",
       "      <td>Reveillon</td>\n",
       "    </tr>\n",
       "    <tr>\n",
       "      <th>7227</th>\n",
       "      <td>18077988</td>\n",
       "      <td>2022-12-30 18:54:32</td>\n",
       "      <td>2022-12-30 22:14:21</td>\n",
       "      <td>35</td>\n",
       "      <td>2</td>\n",
       "      <td>65805</td>\n",
       "      <td>2</td>\n",
       "      <td>70</td>\n",
       "      <td>GM-RIO - Guarda Municipal do Rio de Janeiro</td>\n",
       "      <td>GM-RIO - Guarda Municipal do Rio de Janeiro</td>\n",
       "      <td>...</td>\n",
       "      <td>D</td>\n",
       "      <td>F</td>\n",
       "      <td>No prazo</td>\n",
       "      <td>Encerrado</td>\n",
       "      <td>Atendido</td>\n",
       "      <td>None</td>\n",
       "      <td>0</td>\n",
       "      <td>2022-12-01</td>\n",
       "      <td>POINT(-43.236608 -22.917704)</td>\n",
       "      <td>Reveillon</td>\n",
       "    </tr>\n",
       "    <tr>\n",
       "      <th>7228</th>\n",
       "      <td>18077970</td>\n",
       "      <td>2022-12-30 18:43:04</td>\n",
       "      <td>2022-12-30 22:13:06</td>\n",
       "      <td>35</td>\n",
       "      <td>2</td>\n",
       "      <td>65805</td>\n",
       "      <td>2</td>\n",
       "      <td>70</td>\n",
       "      <td>GM-RIO - Guarda Municipal do Rio de Janeiro</td>\n",
       "      <td>GM-RIO - Guarda Municipal do Rio de Janeiro</td>\n",
       "      <td>...</td>\n",
       "      <td>D</td>\n",
       "      <td>F</td>\n",
       "      <td>No prazo</td>\n",
       "      <td>Encerrado</td>\n",
       "      <td>Atendido</td>\n",
       "      <td>None</td>\n",
       "      <td>0</td>\n",
       "      <td>2022-12-01</td>\n",
       "      <td>POINT(-43.236608 -22.917704)</td>\n",
       "      <td>Reveillon</td>\n",
       "    </tr>\n",
       "    <tr>\n",
       "      <th>7231</th>\n",
       "      <td>18077984</td>\n",
       "      <td>2022-12-30 18:53:12</td>\n",
       "      <td>2022-12-30 22:13:46</td>\n",
       "      <td>35</td>\n",
       "      <td>2</td>\n",
       "      <td>65805</td>\n",
       "      <td>2</td>\n",
       "      <td>70</td>\n",
       "      <td>GM-RIO - Guarda Municipal do Rio de Janeiro</td>\n",
       "      <td>GM-RIO - Guarda Municipal do Rio de Janeiro</td>\n",
       "      <td>...</td>\n",
       "      <td>D</td>\n",
       "      <td>F</td>\n",
       "      <td>No prazo</td>\n",
       "      <td>Encerrado</td>\n",
       "      <td>Atendido</td>\n",
       "      <td>None</td>\n",
       "      <td>0</td>\n",
       "      <td>2022-12-01</td>\n",
       "      <td>POINT(-43.236608 -22.917704)</td>\n",
       "      <td>Reveillon</td>\n",
       "    </tr>\n",
       "    <tr>\n",
       "      <th>7318</th>\n",
       "      <td>18078946</td>\n",
       "      <td>2022-12-31 11:52:48</td>\n",
       "      <td>2022-12-31 14:22:50</td>\n",
       "      <td>141</td>\n",
       "      <td>5</td>\n",
       "      <td>10629</td>\n",
       "      <td>640</td>\n",
       "      <td>70</td>\n",
       "      <td>GM-RIO - Guarda Municipal do Rio de Janeiro</td>\n",
       "      <td>GM-RIO - Guarda Municipal do Rio de Janeiro</td>\n",
       "      <td>...</td>\n",
       "      <td>D</td>\n",
       "      <td>F</td>\n",
       "      <td>No prazo</td>\n",
       "      <td>Encerrado</td>\n",
       "      <td>Atendido</td>\n",
       "      <td>None</td>\n",
       "      <td>0</td>\n",
       "      <td>2022-12-01</td>\n",
       "      <td>None</td>\n",
       "      <td>Reveillon</td>\n",
       "    </tr>\n",
       "    <tr>\n",
       "      <th>...</th>\n",
       "      <td>...</td>\n",
       "      <td>...</td>\n",
       "      <td>...</td>\n",
       "      <td>...</td>\n",
       "      <td>...</td>\n",
       "      <td>...</td>\n",
       "      <td>...</td>\n",
       "      <td>...</td>\n",
       "      <td>...</td>\n",
       "      <td>...</td>\n",
       "      <td>...</td>\n",
       "      <td>...</td>\n",
       "      <td>...</td>\n",
       "      <td>...</td>\n",
       "      <td>...</td>\n",
       "      <td>...</td>\n",
       "      <td>...</td>\n",
       "      <td>...</td>\n",
       "      <td>...</td>\n",
       "      <td>...</td>\n",
       "      <td>...</td>\n",
       "    </tr>\n",
       "    <tr>\n",
       "      <th>36479</th>\n",
       "      <td>18080335</td>\n",
       "      <td>2023-01-01 21:55:10</td>\n",
       "      <td>2023-01-02 02:30:13</td>\n",
       "      <td>64</td>\n",
       "      <td>3</td>\n",
       "      <td>81034</td>\n",
       "      <td>232</td>\n",
       "      <td>70</td>\n",
       "      <td>GM-RIO - Guarda Municipal do Rio de Janeiro</td>\n",
       "      <td>GM-RIO - Guarda Municipal do Rio de Janeiro</td>\n",
       "      <td>...</td>\n",
       "      <td>D</td>\n",
       "      <td>F</td>\n",
       "      <td>No prazo</td>\n",
       "      <td>Encerrado</td>\n",
       "      <td>Não atendido</td>\n",
       "      <td>None</td>\n",
       "      <td>0</td>\n",
       "      <td>2023-01-01</td>\n",
       "      <td>POINT(-43.2867915 -22.8912784)</td>\n",
       "      <td>Reveillon</td>\n",
       "    </tr>\n",
       "    <tr>\n",
       "      <th>36480</th>\n",
       "      <td>18080337</td>\n",
       "      <td>2023-01-01 21:59:43</td>\n",
       "      <td>2023-01-02 02:24:31</td>\n",
       "      <td>64</td>\n",
       "      <td>3</td>\n",
       "      <td>81034</td>\n",
       "      <td>232</td>\n",
       "      <td>70</td>\n",
       "      <td>GM-RIO - Guarda Municipal do Rio de Janeiro</td>\n",
       "      <td>GM-RIO - Guarda Municipal do Rio de Janeiro</td>\n",
       "      <td>...</td>\n",
       "      <td>D</td>\n",
       "      <td>F</td>\n",
       "      <td>No prazo</td>\n",
       "      <td>Encerrado</td>\n",
       "      <td>Não atendido</td>\n",
       "      <td>None</td>\n",
       "      <td>0</td>\n",
       "      <td>2023-01-01</td>\n",
       "      <td>POINT(-43.2867915 -22.8912784)</td>\n",
       "      <td>Reveillon</td>\n",
       "    </tr>\n",
       "    <tr>\n",
       "      <th>36481</th>\n",
       "      <td>18080341</td>\n",
       "      <td>2023-01-01 22:04:48</td>\n",
       "      <td>2023-01-02 02:18:39</td>\n",
       "      <td>64</td>\n",
       "      <td>3</td>\n",
       "      <td>81034</td>\n",
       "      <td>232</td>\n",
       "      <td>70</td>\n",
       "      <td>GM-RIO - Guarda Municipal do Rio de Janeiro</td>\n",
       "      <td>GM-RIO - Guarda Municipal do Rio de Janeiro</td>\n",
       "      <td>...</td>\n",
       "      <td>D</td>\n",
       "      <td>F</td>\n",
       "      <td>No prazo</td>\n",
       "      <td>Encerrado</td>\n",
       "      <td>Não atendido</td>\n",
       "      <td>None</td>\n",
       "      <td>0</td>\n",
       "      <td>2023-01-01</td>\n",
       "      <td>POINT(-43.2867915 -22.8912784)</td>\n",
       "      <td>Reveillon</td>\n",
       "    </tr>\n",
       "    <tr>\n",
       "      <th>36488</th>\n",
       "      <td>18079926</td>\n",
       "      <td>2023-01-01 13:54:17</td>\n",
       "      <td>2023-01-01 21:24:33</td>\n",
       "      <td>42</td>\n",
       "      <td>3</td>\n",
       "      <td>19117</td>\n",
       "      <td>77</td>\n",
       "      <td>70</td>\n",
       "      <td>GM-RIO - Guarda Municipal do Rio de Janeiro</td>\n",
       "      <td>GM-RIO - Guarda Municipal do Rio de Janeiro</td>\n",
       "      <td>...</td>\n",
       "      <td>D</td>\n",
       "      <td>F</td>\n",
       "      <td>No prazo</td>\n",
       "      <td>Encerrado</td>\n",
       "      <td>Não atendido</td>\n",
       "      <td>None</td>\n",
       "      <td>2</td>\n",
       "      <td>2023-01-01</td>\n",
       "      <td>POINT(-43.2679728 -22.8477888)</td>\n",
       "      <td>Reveillon</td>\n",
       "    </tr>\n",
       "    <tr>\n",
       "      <th>36908</th>\n",
       "      <td>18080205</td>\n",
       "      <td>2023-01-01 19:23:19</td>\n",
       "      <td>2023-01-01 21:11:41</td>\n",
       "      <td>144</td>\n",
       "      <td>5</td>\n",
       "      <td>20008</td>\n",
       "      <td>390</td>\n",
       "      <td>70</td>\n",
       "      <td>GM-RIO - Guarda Municipal do Rio de Janeiro</td>\n",
       "      <td>GM-RIO - Guarda Municipal do Rio de Janeiro</td>\n",
       "      <td>...</td>\n",
       "      <td>D</td>\n",
       "      <td>F</td>\n",
       "      <td>No prazo</td>\n",
       "      <td>Encerrado</td>\n",
       "      <td>Não atendido</td>\n",
       "      <td>None</td>\n",
       "      <td>0</td>\n",
       "      <td>2023-01-01</td>\n",
       "      <td>POINT(-43.5706624 -22.9106516)</td>\n",
       "      <td>Reveillon</td>\n",
       "    </tr>\n",
       "  </tbody>\n",
       "</table>\n",
       "<p>1212 rows × 33 columns</p>\n",
       "</div>"
      ],
      "text/plain": [
       "      id_chamado         data_inicio            data_fim id_bairro   \n",
       "7217    18078140 2022-12-30 20:18:43 2022-12-30 22:03:07        23  \\\n",
       "7227    18077988 2022-12-30 18:54:32 2022-12-30 22:14:21        35   \n",
       "7228    18077970 2022-12-30 18:43:04 2022-12-30 22:13:06        35   \n",
       "7231    18077984 2022-12-30 18:53:12 2022-12-30 22:13:46        35   \n",
       "7318    18078946 2022-12-31 11:52:48 2022-12-31 14:22:50       141   \n",
       "...          ...                 ...                 ...       ...   \n",
       "36479   18080335 2023-01-01 21:55:10 2023-01-02 02:30:13        64   \n",
       "36480   18080337 2023-01-01 21:59:43 2023-01-02 02:24:31        64   \n",
       "36481   18080341 2023-01-01 22:04:48 2023-01-02 02:18:39        64   \n",
       "36488   18079926 2023-01-01 13:54:17 2023-01-01 21:24:33        42   \n",
       "36908   18080205 2023-01-01 19:23:19 2023-01-01 21:11:41       144   \n",
       "\n",
       "      id_territorialidade id_logradouro  numero_logradouro   \n",
       "7217                    2         65615                 93  \\\n",
       "7227                    2         65805                  2   \n",
       "7228                    2         65805                  2   \n",
       "7231                    2         65805                  2   \n",
       "7318                    5         10629                640   \n",
       "...                   ...           ...                ...   \n",
       "36479                   3         81034                232   \n",
       "36480                   3         81034                232   \n",
       "36481                   3         81034                232   \n",
       "36488                   3         19117                 77   \n",
       "36908                   5         20008                390   \n",
       "\n",
       "      id_unidade_organizacional                  nome_unidade_organizacional   \n",
       "7217                         70  GM-RIO - Guarda Municipal do Rio de Janeiro  \\\n",
       "7227                         70  GM-RIO - Guarda Municipal do Rio de Janeiro   \n",
       "7228                         70  GM-RIO - Guarda Municipal do Rio de Janeiro   \n",
       "7231                         70  GM-RIO - Guarda Municipal do Rio de Janeiro   \n",
       "7318                         70  GM-RIO - Guarda Municipal do Rio de Janeiro   \n",
       "...                         ...                                          ...   \n",
       "36479                        70  GM-RIO - Guarda Municipal do Rio de Janeiro   \n",
       "36480                        70  GM-RIO - Guarda Municipal do Rio de Janeiro   \n",
       "36481                        70  GM-RIO - Guarda Municipal do Rio de Janeiro   \n",
       "36488                        70  GM-RIO - Guarda Municipal do Rio de Janeiro   \n",
       "36908                        70  GM-RIO - Guarda Municipal do Rio de Janeiro   \n",
       "\n",
       "                     id_unidade_organizacional_mae  ... prazo_unidade   \n",
       "7217   GM-RIO - Guarda Municipal do Rio de Janeiro  ...             D  \\\n",
       "7227   GM-RIO - Guarda Municipal do Rio de Janeiro  ...             D   \n",
       "7228   GM-RIO - Guarda Municipal do Rio de Janeiro  ...             D   \n",
       "7231   GM-RIO - Guarda Municipal do Rio de Janeiro  ...             D   \n",
       "7318   GM-RIO - Guarda Municipal do Rio de Janeiro  ...             D   \n",
       "...                                            ...  ...           ...   \n",
       "36479  GM-RIO - Guarda Municipal do Rio de Janeiro  ...             D   \n",
       "36480  GM-RIO - Guarda Municipal do Rio de Janeiro  ...             D   \n",
       "36481  GM-RIO - Guarda Municipal do Rio de Janeiro  ...             D   \n",
       "36488  GM-RIO - Guarda Municipal do Rio de Janeiro  ...             D   \n",
       "36908  GM-RIO - Guarda Municipal do Rio de Janeiro  ...             D   \n",
       "\n",
       "      prazo_tipo dentro_prazo   situacao tipo_situacao justificativa_status   \n",
       "7217           F     No prazo  Encerrado      Atendido                 None  \\\n",
       "7227           F     No prazo  Encerrado      Atendido                 None   \n",
       "7228           F     No prazo  Encerrado      Atendido                 None   \n",
       "7231           F     No prazo  Encerrado      Atendido                 None   \n",
       "7318           F     No prazo  Encerrado      Atendido                 None   \n",
       "...          ...          ...        ...           ...                  ...   \n",
       "36479          F     No prazo  Encerrado  Não atendido                 None   \n",
       "36480          F     No prazo  Encerrado  Não atendido                 None   \n",
       "36481          F     No prazo  Encerrado  Não atendido                 None   \n",
       "36488          F     No prazo  Encerrado  Não atendido                 None   \n",
       "36908          F     No prazo  Encerrado  Não atendido                 None   \n",
       "\n",
       "      reclamacoes  data_particao                        geometry     evento  \n",
       "7217            0     2022-12-01   POINT(-43.1691884 -22.962173)  Reveillon  \n",
       "7227            0     2022-12-01    POINT(-43.236608 -22.917704)  Reveillon  \n",
       "7228            0     2022-12-01    POINT(-43.236608 -22.917704)  Reveillon  \n",
       "7231            0     2022-12-01    POINT(-43.236608 -22.917704)  Reveillon  \n",
       "7318            0     2022-12-01                            None  Reveillon  \n",
       "...           ...            ...                             ...        ...  \n",
       "36479           0     2023-01-01  POINT(-43.2867915 -22.8912784)  Reveillon  \n",
       "36480           0     2023-01-01  POINT(-43.2867915 -22.8912784)  Reveillon  \n",
       "36481           0     2023-01-01  POINT(-43.2867915 -22.8912784)  Reveillon  \n",
       "36488           2     2023-01-01  POINT(-43.2679728 -22.8477888)  Reveillon  \n",
       "36908           0     2023-01-01  POINT(-43.5706624 -22.9106516)  Reveillon  \n",
       "\n",
       "[1212 rows x 33 columns]"
      ]
     },
     "execution_count": 86,
     "metadata": {},
     "output_type": "execute_result"
    }
   ],
   "source": [
    "df_5071[df_5071['evento'].notnull() ]"
   ]
  },
  {
   "cell_type": "markdown",
   "metadata": {},
   "source": [
    "### Questão 8:\n",
    "#### Quantos chamados desse subtipo foram abertos em cada evento?\n"
   ]
  },
  {
   "cell_type": "code",
   "execution_count": 87,
   "metadata": {},
   "outputs": [
    {
     "data": {
      "text/html": [
       "<div>\n",
       "<style scoped>\n",
       "    .dataframe tbody tr th:only-of-type {\n",
       "        vertical-align: middle;\n",
       "    }\n",
       "\n",
       "    .dataframe tbody tr th {\n",
       "        vertical-align: top;\n",
       "    }\n",
       "\n",
       "    .dataframe thead th {\n",
       "        text-align: right;\n",
       "    }\n",
       "</style>\n",
       "<table border=\"1\" class=\"dataframe\">\n",
       "  <thead>\n",
       "    <tr style=\"text-align: right;\">\n",
       "      <th></th>\n",
       "      <th>evento</th>\n",
       "      <th>total_chamados</th>\n",
       "    </tr>\n",
       "  </thead>\n",
       "  <tbody>\n",
       "    <tr>\n",
       "      <th>2</th>\n",
       "      <td>Rock in Rio</td>\n",
       "      <td>834</td>\n",
       "    </tr>\n",
       "    <tr>\n",
       "      <th>0</th>\n",
       "      <td>Carnaval</td>\n",
       "      <td>241</td>\n",
       "    </tr>\n",
       "    <tr>\n",
       "      <th>1</th>\n",
       "      <td>Reveillon</td>\n",
       "      <td>137</td>\n",
       "    </tr>\n",
       "  </tbody>\n",
       "</table>\n",
       "</div>"
      ],
      "text/plain": [
       "        evento  total_chamados\n",
       "2  Rock in Rio             834\n",
       "0     Carnaval             241\n",
       "1    Reveillon             137"
      ]
     },
     "execution_count": 87,
     "metadata": {},
     "output_type": "execute_result"
    }
   ],
   "source": [
    "df_5071 \\\n",
    "    .groupby('evento')['id_chamado'].nunique() \\\n",
    "    .reset_index(name='total_chamados') \\\n",
    "    .sort_values(by='total_chamados', ascending=False) "
   ]
  },
  {
   "cell_type": "markdown",
   "metadata": {},
   "source": [
    "### Questão 9:\n",
    "#### Qual evento teve a maior média diária de chamados abertos desse subtipo?\n"
   ]
  },
  {
   "cell_type": "code",
   "execution_count": 112,
   "metadata": {},
   "outputs": [
    {
     "data": {
      "text/html": [
       "<div>\n",
       "<style scoped>\n",
       "    .dataframe tbody tr th:only-of-type {\n",
       "        vertical-align: middle;\n",
       "    }\n",
       "\n",
       "    .dataframe tbody tr th {\n",
       "        vertical-align: top;\n",
       "    }\n",
       "\n",
       "    .dataframe thead th {\n",
       "        text-align: right;\n",
       "    }\n",
       "</style>\n",
       "<table border=\"1\" class=\"dataframe\">\n",
       "  <thead>\n",
       "    <tr style=\"text-align: right;\">\n",
       "      <th></th>\n",
       "      <th>evento</th>\n",
       "      <th>total_chamados</th>\n",
       "      <th>duracao_evento</th>\n",
       "      <th>media_diaria_eventos</th>\n",
       "    </tr>\n",
       "  </thead>\n",
       "  <tbody>\n",
       "    <tr>\n",
       "      <th>0</th>\n",
       "      <td>Carnaval</td>\n",
       "      <td>241</td>\n",
       "      <td>4</td>\n",
       "      <td>60.250000</td>\n",
       "    </tr>\n",
       "    <tr>\n",
       "      <th>1</th>\n",
       "      <td>Reveillon</td>\n",
       "      <td>137</td>\n",
       "      <td>3</td>\n",
       "      <td>45.666667</td>\n",
       "    </tr>\n",
       "    <tr>\n",
       "      <th>2</th>\n",
       "      <td>Rock in Rio</td>\n",
       "      <td>834</td>\n",
       "      <td>7</td>\n",
       "      <td>119.142857</td>\n",
       "    </tr>\n",
       "  </tbody>\n",
       "</table>\n",
       "</div>"
      ],
      "text/plain": [
       "        evento  total_chamados  duracao_evento  media_diaria_eventos\n",
       "0     Carnaval             241               4             60.250000\n",
       "1    Reveillon             137               3             45.666667\n",
       "2  Rock in Rio             834               7            119.142857"
      ]
     },
     "execution_count": 112,
     "metadata": {},
     "output_type": "execute_result"
    }
   ],
   "source": [
    "df_merge = df_5071 \\\n",
    "    .groupby('evento')['id_chamado'].nunique() \\\n",
    "    .reset_index(name='total_chamados') \\\n",
    "    .merge(df_eventos.assign(duracao_evento=(df_eventos['data_final'] - df_eventos['data_inicial']).dt.days + 1)\n",
    "                   .groupby('evento')['duracao_evento'].sum().reset_index(),\n",
    "           on='evento', how='left')\n",
    "\n",
    "df_merge['media_diaria_eventos'] = df_merge['total_chamados'] / df_merge['duracao_evento']\n",
    "df_merge"
   ]
  },
  {
   "cell_type": "markdown",
   "metadata": {},
   "source": [
    "### Questão 10:\n",
    "#### Compare as médias diárias de chamados abertos desse subtipo durante os eventos específicos (Reveillon, Carnaval e Rock in Rio) e a média diária de chamados abertos desse subtipo considerando todo o período de 01/01/2022 até 31/12/2023.\n"
   ]
  },
  {
   "cell_type": "code",
   "execution_count": 113,
   "metadata": {},
   "outputs": [
    {
     "data": {
      "text/html": [
       "<div>\n",
       "<style scoped>\n",
       "    .dataframe tbody tr th:only-of-type {\n",
       "        vertical-align: middle;\n",
       "    }\n",
       "\n",
       "    .dataframe tbody tr th {\n",
       "        vertical-align: top;\n",
       "    }\n",
       "\n",
       "    .dataframe thead th {\n",
       "        text-align: right;\n",
       "    }\n",
       "</style>\n",
       "<table border=\"1\" class=\"dataframe\">\n",
       "  <thead>\n",
       "    <tr style=\"text-align: right;\">\n",
       "      <th></th>\n",
       "      <th>evento</th>\n",
       "      <th>total_chamados</th>\n",
       "      <th>duracao_evento</th>\n",
       "      <th>media_diaria_eventos</th>\n",
       "      <th>media_diaria_total</th>\n",
       "    </tr>\n",
       "  </thead>\n",
       "  <tbody>\n",
       "    <tr>\n",
       "      <th>0</th>\n",
       "      <td>Carnaval</td>\n",
       "      <td>241</td>\n",
       "      <td>4</td>\n",
       "      <td>60.250000</td>\n",
       "      <td>59.22905</td>\n",
       "    </tr>\n",
       "    <tr>\n",
       "      <th>1</th>\n",
       "      <td>Reveillon</td>\n",
       "      <td>137</td>\n",
       "      <td>3</td>\n",
       "      <td>45.666667</td>\n",
       "      <td>59.22905</td>\n",
       "    </tr>\n",
       "    <tr>\n",
       "      <th>2</th>\n",
       "      <td>Rock in Rio</td>\n",
       "      <td>834</td>\n",
       "      <td>7</td>\n",
       "      <td>119.142857</td>\n",
       "      <td>59.22905</td>\n",
       "    </tr>\n",
       "  </tbody>\n",
       "</table>\n",
       "</div>"
      ],
      "text/plain": [
       "        evento  total_chamados  duracao_evento  media_diaria_eventos   \n",
       "0     Carnaval             241               4             60.250000  \\\n",
       "1    Reveillon             137               3             45.666667   \n",
       "2  Rock in Rio             834               7            119.142857   \n",
       "\n",
       "   media_diaria_total  \n",
       "0            59.22905  \n",
       "1            59.22905  \n",
       "2            59.22905  "
      ]
     },
     "execution_count": 113,
     "metadata": {},
     "output_type": "execute_result"
    }
   ],
   "source": [
    "df_merge['media_diaria_total'] = df_5071['id_chamado'].nunique() / (df_5071['data_inicio'].max() - df_5071['data_inicio'].min()).days\n",
    "df_merge"
   ]
  }
 ],
 "metadata": {
  "kernelspec": {
   "display_name": "Python 3.12.2 ('venv-desafio': venv)",
   "language": "python",
   "name": "python3"
  },
  "language_info": {
   "codemirror_mode": {
    "name": "ipython",
    "version": 3
   },
   "file_extension": ".py",
   "mimetype": "text/x-python",
   "name": "python",
   "nbconvert_exporter": "python",
   "pygments_lexer": "ipython3",
   "version": "3.12.2"
  },
  "orig_nbformat": 4,
  "vscode": {
   "interpreter": {
    "hash": "e4906d6b954168f04e7c50a546ae786aec9d91858988eba7ff922199e22b8c49"
   }
  }
 },
 "nbformat": 4,
 "nbformat_minor": 2
}
